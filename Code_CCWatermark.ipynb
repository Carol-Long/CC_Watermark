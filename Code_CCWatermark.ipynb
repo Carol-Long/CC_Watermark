{
  "nbformat": 4,
  "nbformat_minor": 0,
  "metadata": {
    "colab": {
      "provenance": []
    },
    "kernelspec": {
      "name": "python3",
      "display_name": "Python 3"
    },
    "language_info": {
      "name": "python"
    }
  },
  "cells": [
    {
      "cell_type": "code",
      "source": [
        "!pip install gurobipy\n",
        "!pip install \"cvxpy[GUROBI]\""
      ],
      "metadata": {
        "colab": {
          "base_uri": "https://localhost:8080/"
        },
        "id": "DoA9844vuDBK",
        "outputId": "0a6d1ff8-d550-41bb-9d18-d97bc09d6716"
      },
      "execution_count": 1,
      "outputs": [
        {
          "output_type": "stream",
          "name": "stdout",
          "text": [
            "Collecting gurobipy\n",
            "  Downloading gurobipy-12.0.1-cp311-cp311-manylinux2014_x86_64.manylinux_2_17_x86_64.whl.metadata (16 kB)\n",
            "Downloading gurobipy-12.0.1-cp311-cp311-manylinux2014_x86_64.manylinux_2_17_x86_64.whl (14.4 MB)\n",
            "\u001b[2K   \u001b[90m━━━━━━━━━━━━━━━━━━━━━━━━━━━━━━━━━━━━━━━━\u001b[0m \u001b[32m14.4/14.4 MB\u001b[0m \u001b[31m25.1 MB/s\u001b[0m eta \u001b[36m0:00:00\u001b[0m\n",
            "\u001b[?25hInstalling collected packages: gurobipy\n",
            "Successfully installed gurobipy-12.0.1\n",
            "Requirement already satisfied: cvxpy[GUROBI] in /usr/local/lib/python3.11/dist-packages (1.6.2)\n",
            "Requirement already satisfied: osqp>=0.6.2 in /usr/local/lib/python3.11/dist-packages (from cvxpy[GUROBI]) (0.6.7.post3)\n",
            "Requirement already satisfied: clarabel>=0.5.0 in /usr/local/lib/python3.11/dist-packages (from cvxpy[GUROBI]) (0.10.0)\n",
            "Requirement already satisfied: scs>=3.2.4.post1 in /usr/local/lib/python3.11/dist-packages (from cvxpy[GUROBI]) (3.2.7.post2)\n",
            "Requirement already satisfied: numpy>=1.21.6 in /usr/local/lib/python3.11/dist-packages (from cvxpy[GUROBI]) (1.26.4)\n",
            "Requirement already satisfied: scipy>=1.11.0 in /usr/local/lib/python3.11/dist-packages (from cvxpy[GUROBI]) (1.13.1)\n",
            "Requirement already satisfied: gurobipy in /usr/local/lib/python3.11/dist-packages (from cvxpy[GUROBI]) (12.0.1)\n",
            "Requirement already satisfied: qdldl in /usr/local/lib/python3.11/dist-packages (from osqp>=0.6.2->cvxpy[GUROBI]) (0.1.7.post5)\n"
          ]
        }
      ]
    },
    {
      "cell_type": "code",
      "source": [
        "import numpy as np\n",
        "from scipy.optimize import minimize\n",
        "import matplotlib.pyplot as plt\n",
        "from typing import Dict, List, Tuple\n",
        "from tqdm import tqdm\n",
        "import cvxpy as cp\n",
        "import seaborn as sns\n",
        "import gurobipy\n",
        "# import tikzplotlib\n",
        "import webcolors"
      ],
      "metadata": {
        "id": "0P0qetnwhn99"
      },
      "execution_count": 2,
      "outputs": []
    },
    {
      "cell_type": "markdown",
      "source": [
        "### Supporting Functions"
      ],
      "metadata": {
        "id": "aKaWaABUhsYZ"
      }
    },
    {
      "cell_type": "code",
      "source": [
        "def generate_redgreen(m, gamma, seed):\n",
        "  \"\"\"Generates m bits of iid Bernoulli(gamma).\n",
        "\n",
        "  Args:\n",
        "    m: Number of elements.\n",
        "    gamma: The probability of success (1).\n",
        "    seed: Random seed.\n",
        "\n",
        "  Returns:\n",
        "     A NumPy array of m bits.\n",
        "  \"\"\"\n",
        "  np.random.seed(seed)\n",
        "  return np.random.binomial(1, gamma, size=m)\n",
        "\n",
        "def generate_balanced_rg(m, gamma, seed):\n",
        "  np.random.seed(seed)\n",
        "  ones = int(m*gamma)\n",
        "  zeros = m - ones\n",
        "  elements = np.array([1] * ones + [0] * zeros)\n",
        "  np.random.shuffle(elements)\n",
        "  return elements\n",
        "\n",
        "def generate_distribution(m, L2_norm, seed):\n",
        "    \"\"\"Generates Q: synthetic LLM probability distribution over m tokens for a given l2-norm.\n",
        "\n",
        "    Args:\n",
        "      m: Number of elements in the probability distribution.\n",
        "      L2_norm: Desired L2 norm of the distribution.\n",
        "      seed: Random seed.\n",
        "\n",
        "    Returns:\n",
        "      probability distribution: NumPy array of m bits.\n",
        "    \"\"\"\n",
        "    # Objective function to minimize\n",
        "    def objective(p):\n",
        "        return 0  # We don't need to minimize any particular function, so we return 0.\n",
        "\n",
        "    # Constraints: sum to 1 and have an L2 norm of L\n",
        "    constraints = [\n",
        "        {'type': 'eq', 'fun': lambda p: np.sum(p) - 1},  # Sum of elements is 1\n",
        "        {'type': 'eq', 'fun': lambda p: np.linalg.norm(p) - L2_norm}  # L2 norm is L\n",
        "    ]\n",
        "\n",
        "    # Bounds: all elements should be non-negative\n",
        "    bounds = [(0, None) for _ in range(m)]\n",
        "\n",
        "    # Initial guess\n",
        "    np.random.seed(seed)\n",
        "    initial_guess = np.random.rand(m)\n",
        "\n",
        "    # Perform the optimization\n",
        "    result = minimize(objective, initial_guess, constraints=constraints, bounds=bounds)\n",
        "\n",
        "    # Check if optimization was successful\n",
        "    if result.success:\n",
        "        return result.x\n",
        "    else:\n",
        "        raise ValueError(\"Optimization failed to find a valid distribution.\")\n",
        "\n",
        "def tilt_q_RG(distribution, delta, rg_list):\n",
        "    \"\"\"Tilt the distribution by a multiplicative factor of delta\n",
        "        according to a red/green list.\n",
        "\n",
        "    Args:\n",
        "      distribution: original distribution.\n",
        "      delta: multiplicative factor.\n",
        "      rg_list: red/green list\n",
        "\n",
        "    Returns:\n",
        "      tilted distribution: NumPy array of m bits.\n",
        "    \"\"\"\n",
        "    # print(rg_list)\n",
        "    # print(\"Original distribution:\", distribution)\n",
        "    # Convert to numpy arrays for easy manipulation\n",
        "    distribution = np.array(distribution)\n",
        "    rg_list = np.array(rg_list)\n",
        "\n",
        "    # Multiply by (1+delta) to elements where Bernoulli_list is 1\n",
        "    distribution += distribution * delta * rg_list\n",
        "\n",
        "    # Normalize to ensure the probabilities sum to 1\n",
        "    distribution /= np.sum(distribution)\n",
        "\n",
        "    # print(\"Tilted distribution:\", distribution)\n",
        "    # print(\"Sum of elements:\", np.sum(distribution))\n",
        "    return distribution\n",
        "\n",
        "\n",
        "def total_variation_distance(q, q_tilt):\n",
        "    \"\"\"Compute the total variation distance between q and q_tilt.\"\"\"\n",
        "    return 0.5 * np.sum(np.abs(q - q_tilt))\n"
      ],
      "metadata": {
        "id": "ADl_z4GIhukp"
      },
      "execution_count": 3,
      "outputs": []
    },
    {
      "cell_type": "code",
      "source": [
        "class TVopt:\n",
        "  def __init__(self, m, d):\n",
        "    self.m = m  # Number of points\n",
        "    self.d = d  # Dimension\n",
        "\n",
        "    # Variables\n",
        "    self.v = [cp.Variable(self.d) for _ in range(self.m)]\n",
        "    self.z = [cp.Variable(self.d, nonneg=True) for _ in range(self.m)]\n",
        "    self.b = [cp.Variable(self.d, boolean=True) for _ in range(self.m)]\n",
        "\n",
        "    # Parameters\n",
        "    self.p = cp.Parameter(self.d, nonneg=True)  # Parameter for p\n",
        "    self.w = cp.Parameter(self.m, nonneg=True)  # Parameter for weights\n",
        "    self.epsilon = cp.Parameter(nonneg=True)  # Parameter for epsilon\n",
        "\n",
        "    # Objective: Maximize sum(w_i * z_i)\n",
        "    self.objective = cp.Maximize(sum(self.w[i] * cp.sum(self.z[i]) for i in range(self.m)))\n",
        "\n",
        "    # Constraints\n",
        "    self.constraints = []\n",
        "    M = 3  # Large constant\n",
        "\n",
        "    # Sum of v_i,j equals zero\n",
        "    for i in range(self.m):\n",
        "      self.constraints.append(cp.sum(self.v[i]) == 0)\n",
        "\n",
        "    # Bounds on v_i\n",
        "    for i in range(self.m):\n",
        "      self.constraints.append(self.v[i] >= -self.p)\n",
        "      self.constraints.append(self.v[i] <= 1 - self.p)\n",
        "\n",
        "    # Relationship between v_i and z_i\n",
        "    for i in range(self.m):\n",
        "      self.constraints.append(self.v[i] <= self.z[i])\n",
        "      self.constraints.append(-self.v[i] <= self.z[i])\n",
        "      self.constraints.append(self.v[i] + M * self.b[i] >= self.z[i])\n",
        "      self.constraints.append(-self.v[i] + M * (1 - self.b[i]) >= self.z[i])\n",
        "\n",
        "    # Penalty on weighted sum of v_i\n",
        "    weighted_sum_v = sum(self.w[i] * self.v[i] for i in range(self.m))\n",
        "    self.constraints.append(0.5 * cp.norm1(weighted_sum_v) <= self.epsilon)\n",
        "\n",
        "    # Set up the problem\n",
        "    self.problem = cp.Problem(self.objective, self.constraints)\n",
        "\n",
        "    # Solution information\n",
        "    self.optimal_value = None\n",
        "    self.status = None\n",
        "    self.solved = False  # Flag to indicate if the problem has been previously solved\n",
        "    self.q = None  # Variables for q values\n",
        "    self.q_mean = None  # Variable for q_mean value\n",
        "    self.perception = None # Variable for perception value\n",
        "    self.detection = None # Variable for detection value\n",
        "\n",
        "  # def solve(self, w, p, epsilon, verbose=False,solver='GUROBI'):\n",
        "  def solve(self, w, p, epsilon, verbose=False,solver='GUROBI'):\n",
        "    # Normalize inputs\n",
        "    p = p / sum(p)\n",
        "    w = w / sum(w)\n",
        "\n",
        "    # adjust TV bound based on epsilon:\n",
        "    tv_bound = 2*epsilon-1\n",
        "\n",
        "    # Set parameter values\n",
        "    self.p.value = p\n",
        "    self.w.value = w\n",
        "    self.epsilon.value = tv_bound\n",
        "\n",
        "    # Set up and solve the problem with warm start\n",
        "    if not self.solved:\n",
        "      for var in self.v + self.z + self.b:\n",
        "        var.value = np.zeros(self.d)  # Initialize variables to zeros for the first solve (warm start).\n",
        "\n",
        "    self.problem.solve(solver=solver, warm_start=True, verbose=verbose)\n",
        "\n",
        "    # Store results\n",
        "    self.optimal_value = self.problem.value\n",
        "    self.status = self.problem.status\n",
        "    self.solved = True\n",
        "\n",
        "    # Compute q and q_mean\n",
        "    self.q = np.array([self.v[i].value + p for i in range(self.m)])\n",
        "    self.q_mean = np.average(self.q, axis=0, weights=w)\n",
        "\n",
        "    # TV Perception\n",
        "    self.perception = (1 + .5*np.linalg.norm(p - self.q_mean, ord=1)) / 2\n",
        "\n",
        "    # TV Detection\n",
        "    self.detection = (1 + .5*np.average(np.linalg.norm(p-self.q, ord=1, axis=1), axis=0, weights=w)) / 2\n"
      ],
      "metadata": {
        "id": "PC0DuWIluQij"
      },
      "execution_count": 4,
      "outputs": []
    },
    {
      "cell_type": "code",
      "source": [
        "# correlated channel method (assume binary side_info and binary rg_list)\n",
        "def tilt_q_CCW(distribution, side_info, rg_list):\n",
        "    size_sideinfo = 2\n",
        "    p_side_info = 1/size_sideinfo # assume uniform dist over |S|\n",
        "    # sum up distribution where rg_list is 0 and 1\n",
        "    p_0 = sum(distribution * (1-rg_list)) # sum of probabilities for tokens in list 0\n",
        "    p_1 = sum(distribution * rg_list) # sum of probabilities for tokens in list 1\n",
        "    # four cases\n",
        "    if p_1 <= 0.5:\n",
        "      if side_info == 0:\n",
        "        # multiple by 1/p_0 to elements where rg_list is 0\n",
        "        distribution = distribution * (1/p_0) * (1- rg_list)\n",
        "        # effectively tokens in rg_list 1 is set to 0 probability\n",
        "      else:\n",
        "        # multiple by 2-1/p0 to elements where rg_list is 0\n",
        "        distribution_segment0 = distribution * (2-1/p_0) * (1- rg_list)\n",
        "        # multiple by 2 to elements where rg_list is 1\n",
        "        distribution_segment1 = distribution * 2 * rg_list\n",
        "        distribution = distribution_segment1 + distribution_segment0\n",
        "    else:\n",
        "      if side_info == 0:\n",
        "        # multiple by 2 to elements where rg_list is 0\n",
        "        distribution_segment0 = distribution * 2 * (1-rg_list)\n",
        "        # multiple by 2-1/p0 to elements where rg_list is 1\n",
        "        distribution_segment1 = distribution * (2-1/p_1) * (rg_list)\n",
        "        distribution = distribution_segment1 + distribution_segment0\n",
        "      else:\n",
        "        # multiple by 1/p_1 to elements where rg_list is 1\n",
        "        distribution = distribution * (1/p_1) * rg_list\n",
        "        # effectively tokens in rg_list 0 is set to 0 probability\n",
        "    return distribution"
      ],
      "metadata": {
        "id": "UVrjSUhlhvol"
      },
      "execution_count": 5,
      "outputs": []
    },
    {
      "cell_type": "code",
      "source": [
        "# Function to sample from a watermarked or non-watermark dist with equal probability\n",
        "# and compute correct detection of green tokens\n",
        "def sampling(distribution, tilted_distribution, rg_list, seed):\n",
        "    #np.random.seed(seed)\n",
        "    # Randomly sample a bit (0 or 1) w probability 1/2\n",
        "    bit = np.random.choice([0, 1])\n",
        "    #print('chosen distribution:', bit)\n",
        "    # Select distribution to sample from based on bit\n",
        "    chosen_distribution = distribution if bit == 0 else tilted_distribution\n",
        "\n",
        "    # Sample 1 element from the chosen distribution\n",
        "    sampled_element = np.random.choice(len(chosen_distribution), size=1, p=chosen_distribution)\n",
        "\n",
        "    # Determine whether it is from green list (1 in rg_list)\n",
        "    green_hit = rg_list[sampled_element].item()\n",
        "\n",
        "    return green_hit, bit\n",
        "\n",
        "def one_shot_detection_experiment(distribution, tilted_distribution, rg_list, side_info = None, method = 'rg'):\n",
        "    results = []\n",
        "    FPR_results = []\n",
        "    FNR_results = []\n",
        "    watermarked_ct = 0\n",
        "    notwatermarked_ct = 0\n",
        "    for _ in range(100):\n",
        "        green_hit, bit = sampling(distribution, tilted_distribution, rg_list, _)\n",
        "        # compute correct detection or not\n",
        "        if method=='rg':\n",
        "          detection_correctness = int(bit == green_hit)\n",
        "          FNR = int(bit == 1 and green_hit == 0)\n",
        "          FPR = int(bit == 0 and green_hit == 1)\n",
        "        elif method == 'ccw':\n",
        "          decision = int(green_hit==side_info)\n",
        "          detection_correctness = int(bit == decision)\n",
        "          FNR = int(bit == 1 and decision == 0)\n",
        "          FPR = int(bit == 0 and decision == 1)\n",
        "        else:\n",
        "          raise ValueError(\"Invalid method. Use 'rg' or 'ccw'.\")\n",
        "        FNR_results.append(FNR)\n",
        "        FPR_results.append(FPR)\n",
        "        watermarked_ct += int(bit == 1)\n",
        "        notwatermarked_ct += int(bit == 0)\n",
        "        #print(detection_correctness)\n",
        "        results.append(detection_correctness)\n",
        "    detection_accuracy = sum(results) / len(results)\n",
        "    ave_FPR = sum(FPR_results) / notwatermarked_ct\n",
        "    ave_FNR = sum(FNR_results) / watermarked_ct\n",
        "    assert((watermarked_ct+notwatermarked_ct)==100)\n",
        "    #print((ave_FPR*notwatermarked_ct + ave_FNR* watermarked_ct)/(notwatermarked_ct+watermarked_ct))\n",
        "    #print(1-detection_accuracy)\n",
        "    # print('FPR', sum(FPR_results))\n",
        "    # print('FNR', sum(FNR_results))\n",
        "    # print('watermarked_ct', watermarked_ct)\n",
        "    # print('notwatermarked_ct', notwatermarked_ct)\n",
        "    return detection_accuracy, ave_FPR, ave_FNR, bit"
      ],
      "metadata": {
        "id": "-YoiNUI6hxtu"
      },
      "execution_count": 6,
      "outputs": []
    },
    {
      "cell_type": "markdown",
      "source": [
        "### Correlated Channel and R/G One-Shot"
      ],
      "metadata": {
        "id": "PvQj6y5kh3vp"
      }
    },
    {
      "cell_type": "code",
      "source": [
        "def experiment_z_channel(orig_dist):\n",
        "  accuracy_list = []\n",
        "  fpr_list = []\n",
        "  fnr_list = []\n",
        "  watermarked_ct = 0\n",
        "  n_trials = 100\n",
        "  for itr in range(n_trials):\n",
        "    side_info = np.random.choice([0, 1])\n",
        "\n",
        "    # generate red/green list\n",
        "    m = 10  # Number of elements\n",
        "    gamma = 1/2 # Probability of success\n",
        "    seed = itr # Random seed\n",
        "    rglist = generate_redgreen(m, gamma, seed)\n",
        "\n",
        "    tilt_q_ccw = tilt_q_CCW(orig_dist, side_info, rglist)\n",
        "\n",
        "    detection_accuracy, ave_FPR, ave_FNR, bit = one_shot_detection_experiment(orig_dist, tilt_q_ccw, rglist, side_info, method = 'ccw')\n",
        "    accuracy_list.append(detection_accuracy)\n",
        "    fpr_list.append(ave_FPR)\n",
        "    fnr_list.append(ave_FNR)\n",
        "    if bit == 1:\n",
        "      watermarked_ct += 1\n",
        "\n",
        "  # Calculate mean and standard error for each metric\n",
        "  means = [np.mean(accuracy_list), np.mean(fpr_list), np.mean(fnr_list)]\n",
        "  # stds = [np.std(accuracy_list, ddof=1)/np.sqrt(n_trials),  # Standard Error for Accuracy\n",
        "  #         np.std(fpr_list, ddof=1)/np.sqrt(n_trials),       # Standard Error for FPR\n",
        "  #         np.std(fnr_list, ddof=1)/np.sqrt(n_trials)]       # Standard Error for FNR\n",
        "  stds = [np.std(accuracy_list, ddof=1),  # Standard Error for Accuracy\n",
        "          np.std(fpr_list, ddof=1),       # Standard Error for FPR\n",
        "          np.std(fnr_list, ddof=1)]       # Standard Error for FNR\n",
        "  print('watermark ratio:', watermarked_ct/100)\n",
        "  return means, stds"
      ],
      "metadata": {
        "id": "OmMFVdSOh5oT"
      },
      "execution_count": 7,
      "outputs": []
    },
    {
      "cell_type": "code",
      "source": [
        "def experiment_z_channel_balanced(orig_dist):\n",
        "  accuracy_list = []\n",
        "  fpr_list = []\n",
        "  fnr_list = []\n",
        "  watermarked_ct = 0\n",
        "  n_trials = 100\n",
        "  for itr in range(n_trials):\n",
        "    side_info = np.random.choice([0, 1])\n",
        "\n",
        "    # generate red/green list\n",
        "    m = 10  # Number of elements\n",
        "    gamma = 1/2 # Probability of success\n",
        "    seed = itr # Random seed\n",
        "    rglist = generate_balanced_rg(m, gamma, seed)\n",
        "    # ones = int(m*gamma)\n",
        "    # zeros = m - ones\n",
        "    # rglist = np.array([1] * ones + [0] * zeros)\n",
        "\n",
        "    tilt_q_ccw = tilt_q_CCW(orig_dist, side_info, rglist)\n",
        "\n",
        "    detection_accuracy, ave_FPR, ave_FNR, bit = one_shot_detection_experiment(orig_dist, tilt_q_ccw, rglist, side_info, method = 'ccw')\n",
        "    accuracy_list.append(detection_accuracy)\n",
        "    fpr_list.append(ave_FPR)\n",
        "    fnr_list.append(ave_FNR)\n",
        "    if bit == 1:\n",
        "      watermarked_ct += 1\n",
        "\n",
        "  # Calculate mean and standard error for each metric\n",
        "  means = [np.mean(accuracy_list), np.mean(fpr_list), np.mean(fnr_list)]\n",
        "  # stds = [np.std(accuracy_list, ddof=1)/np.sqrt(n_trials),  # Standard Error for Accuracy\n",
        "  #         np.std(fpr_list, ddof=1)/np.sqrt(n_trials),       # Standard Error for FPR\n",
        "  #         np.std(fnr_list, ddof=1)/np.sqrt(n_trials)]       # Standard Error for FNR\n",
        "  stds = [np.std(accuracy_list, ddof=1),  # Standard Error for Accuracy\n",
        "          np.std(fpr_list, ddof=1),       # Standard Error for FPR\n",
        "          np.std(fnr_list, ddof=1)]       # Standard Error for FNR\n",
        "  print('watermark ratio:', watermarked_ct/100)\n",
        "  return means, stds"
      ],
      "metadata": {
        "id": "eB5Yv0HPq99r"
      },
      "execution_count": 8,
      "outputs": []
    },
    {
      "cell_type": "code",
      "source": [
        "def experiment_rg(orig_dist, delta):\n",
        "  accuracy_list = []\n",
        "  fpr_list = []\n",
        "  fnr_list = []\n",
        "  watermarked_ct = 0\n",
        "  n_trials = 100\n",
        "  for itr in range(n_trials):\n",
        "    side_info = np.random.choice([0, 1])\n",
        "\n",
        "    # generate red/green list\n",
        "    m = 10  # Number of elements\n",
        "    gamma = 1/2 # Probability of success\n",
        "    seed = itr # Random seed\n",
        "    rglist = generate_redgreen(m, gamma, seed)\n",
        "\n",
        "    tilt_q_rg = tilt_q_RG(orig_dist, delta, rglist)\n",
        "\n",
        "    detection_accuracy, ave_FPR, ave_FNR, bit = one_shot_detection_experiment(orig_dist, tilt_q_rg, rglist, side_info=None, method = 'rg')\n",
        "    accuracy_list.append(detection_accuracy)\n",
        "    fpr_list.append(ave_FPR)\n",
        "    fnr_list.append(ave_FNR)\n",
        "    if bit == 1:\n",
        "      watermarked_ct += 1\n",
        "\n",
        "  # Calculate mean and standard error for each metric\n",
        "  means = [np.mean(accuracy_list), np.mean(fpr_list), np.mean(fnr_list)]\n",
        "  # stds = [np.std(accuracy_list, ddof=1)/np.sqrt(n_trials) ,  # Standard Error for Accuracy\n",
        "  #         np.std(fpr_list, ddof=1) /np.sqrt(n_trials),       # Standard Error for FPR\n",
        "  #         np.std(fnr_list, ddof=1)/np.sqrt(n_trials)]       # Standard Error for FNR\n",
        "  stds = [np.std(accuracy_list, ddof=1) ,  # Standard Error for Accuracy\n",
        "          np.std(fpr_list, ddof=1) ,       # Standard Error for FPR\n",
        "          np.std(fnr_list, ddof=1)]       # Standard Error for FNR\n",
        "  return means[0], stds[0]\n",
        "  print('watermark ratio:', watermarked_ct/100)\n",
        "  return means, sems\n",
        "\n"
      ],
      "metadata": {
        "id": "8CA-1gxhiNa3"
      },
      "execution_count": 9,
      "outputs": []
    },
    {
      "cell_type": "code",
      "source": [
        "# RG experiment with fixed Q, varying delta parameter in Q'\n",
        "def experiment_RG_detection_delta(orig_dist, delta_list):\n",
        "  rg_detection_mean = []\n",
        "  rg_detection_sem = []\n",
        "\n",
        "  for delta in delta_list:\n",
        "    mean, sem = experiment_rg(orig_dist, delta)\n",
        "    rg_detection_mean.append(mean)\n",
        "    rg_detection_sem.append(sem)\n",
        "  return rg_detection_mean, rg_detection_sem\n",
        "\n",
        "def expected_tilted_distribution(q, delta, num_tilts):\n",
        "    \"\"\"Compute the expected tilted distribution by averaging several tilts.\"\"\"\n",
        "    tilted_distributions = []\n",
        "    for seed in range(num_tilts):\n",
        "        # Generate a red/green list\n",
        "        m = 10  # Number of elements\n",
        "        gamma = 1/2 # Probability of success\n",
        "        rglist = generate_redgreen(m, gamma, seed)\n",
        "        tilted_q = tilt_q_RG(q, delta, rglist)\n",
        "        tilted_distributions.append(tilted_q)\n",
        "    expected_q_tilted = np.mean(tilted_distributions, axis=0)\n",
        "    #print(expected_q_tilted)\n",
        "    return expected_q_tilted\n",
        "\n",
        "def exp_fixed_q_vary_delta_perception(q, delta_list):\n",
        "  '''\n",
        "  q: original distribution.\n",
        "  tunable parameters:\n",
        "    delta_list = np.arange(0, 100, 0.5),\n",
        "    number of red/green lists sampled for each delta = 80\n",
        "  '''\n",
        "  # generate delta parameter for perturbed distribution Q'\n",
        "  perception_list = []\n",
        "  for delta in delta_list:\n",
        "    num_tilts = 80\n",
        "    expected_q_tilted = expected_tilted_distribution(q, delta, num_tilts)\n",
        "    #print(expected_q_tilted)\n",
        "    TV_distance = total_variation_distance(q, expected_q_tilted)\n",
        "    #print(0.5*(1+TV_distance))\n",
        "    perception_list.append(0.5*(1+TV_distance))\n",
        "  return perception_list\n"
      ],
      "metadata": {
        "id": "Ol8Jkyk4h-Lj"
      },
      "execution_count": 10,
      "outputs": []
    },
    {
      "cell_type": "code",
      "source": [
        "# RG delta (parameter for distortion)\n",
        "delta_list = [round(x, 2) for x in np.arange(0, 100, 1)]\n",
        "\n",
        "# uniform distribution\n",
        "orig_dist = np.ones(10)\n",
        "# orig_dist = np.array([1,1]+[0]*8)\n",
        "orig_dist = orig_dist/sum(orig_dist)\n",
        "rg_detection_mean, rg_detection_sem = experiment_RG_detection_delta(orig_dist, delta_list)\n",
        "rg_detection_mean = np.array(rg_detection_mean)\n",
        "rg_detection_sem = np.array(rg_detection_sem)\n",
        "perception_list = exp_fixed_q_vary_delta_perception(orig_dist, delta_list)"
      ],
      "metadata": {
        "id": "xqTyM8cDqrlo"
      },
      "execution_count": 34,
      "outputs": []
    },
    {
      "cell_type": "code",
      "source": [
        "# correlated channel result\n",
        "means_CCW, sems_CCW = experiment_z_channel(orig_dist)\n",
        "detection_CCW = means_CCW[0]\n",
        "sem_CCW = sems_CCW[0]"
      ],
      "metadata": {
        "colab": {
          "base_uri": "https://localhost:8080/"
        },
        "id": "PVdNwHIqs2CU",
        "outputId": "2aa6fb6c-18db-42b9-d5e6-9786e32533d9"
      },
      "execution_count": 35,
      "outputs": [
        {
          "output_type": "stream",
          "name": "stdout",
          "text": [
            "watermark ratio: 0.46\n"
          ]
        }
      ]
    },
    {
      "cell_type": "code",
      "source": [
        "# correlated channel balanced\n",
        "means_CCW_balanced, sems_CCW_balanced = experiment_z_channel_balanced(orig_dist)\n",
        "detection_CCW_balanced = means_CCW_balanced[0]\n",
        "sem_CCW_balanced = sems_CCW_balanced[0]"
      ],
      "metadata": {
        "colab": {
          "base_uri": "https://localhost:8080/"
        },
        "id": "4ZRFMHxYq4bb",
        "outputId": "942dfddf-e6c0-4ab0-a425-382bc234e053"
      },
      "execution_count": 36,
      "outputs": [
        {
          "output_type": "stream",
          "name": "stdout",
          "text": [
            "watermark ratio: 0.53\n"
          ]
        }
      ]
    },
    {
      "cell_type": "code",
      "source": [
        "## Run the TVopt class for different values of epsilon and plot the results\n",
        "d = 10 # dimension\n",
        "# distribution Q_x\n",
        "# p = np.ones(d)\n",
        "# p = p/sum(p)\n",
        "p=orig_dist\n",
        "n_points = 100 # Number of plot points\n",
        "m_range = [2,3]\n",
        "\n",
        "tvopt_detection_list = []\n",
        "tvopt_perception_list = []\n",
        "\n",
        "# Arrays to store perception and detection values\n",
        "perception_values = np.zeros(n_points)\n",
        "detection_values = np.zeros(n_points)\n",
        "epsilon_values = np.linspace(.5, 1, n_points) # upper bound on perception\n",
        "\n",
        "for m in m_range:\n",
        "    tvopt = TVopt(m=m, d=d)\n",
        "    w = np.ones(m)\n",
        "    w = w/sum(w)\n",
        "\n",
        "    # Solve the problem for different epsilon values\n",
        "    for idx in tqdm(range(n_points)):\n",
        "      epsilon = epsilon_values[idx]\n",
        "      tvopt.solve(w, p, epsilon)\n",
        "      perception_values[idx] = tvopt.perception\n",
        "      detection_values[idx] = tvopt.detection\n",
        "\n",
        "    tvopt_detection_list.append(detection_values.copy())\n",
        "    tvopt_perception_list.append(perception_values.copy())\n"
      ],
      "metadata": {
        "colab": {
          "base_uri": "https://localhost:8080/"
        },
        "id": "ncTgOZZsziTI",
        "outputId": "f7f9993a-4afe-48bf-8c4e-45a86d0f7dd0"
      },
      "execution_count": 37,
      "outputs": [
        {
          "output_type": "stream",
          "name": "stderr",
          "text": [
            "100%|██████████| 100/100 [00:07<00:00, 13.21it/s]\n",
            "100%|██████████| 100/100 [00:25<00:00,  3.93it/s]\n"
          ]
        }
      ]
    },
    {
      "cell_type": "code",
      "source": [
        "# Plotting RG\n",
        "sns.set_style(\"whitegrid\")\n",
        "plt.figure(figsize=(8,6))\n",
        "# plt.plot(perception_list, rg_detection_mean, linewidth=2,  label = 'Red/Green [2]')\n",
        "# plt.fill_between(perception_list, rg_detection_mean - rg_detection_sem, rg_detection_mean + rg_detection_sem, alpha=0.3)\n",
        "# plt.scatter(perception_list,rg_detection_mean, color = '#1f77b4')\n",
        "plt.errorbar(perception_list, rg_detection_mean, yerr=rg_detection_sem,  markersize=5, fmt='o-', color = '#1f77b4', label = 'Red/Green [2]', alpha = 0.3 )\n",
        "plt.xlabel(r'$R_p$', fontsize=17)\n",
        "plt.ylabel(r'$R_d$', fontsize=17)\n",
        "\n",
        "# Plotting Correlated Channel\n",
        "# plt.plot([0.5], [detection_CCW], 'ro', label = 'CC (Ours), |S|=2')\n",
        "# plt.fill_between([0.5], [detection_CCW-sem_CCW], [detection_CCW+sem_CCW], alpha=0.3)\n",
        "plt.errorbar(0.5, detection_CCW, xerr=0, yerr=sem_CCW, fmt='ro',markersize=5, label=r\"CC Bernoulli(Ours), $|S|$=2\", alpha = 0.3)\n",
        "x = np.linspace(.5,1,100)\n",
        "y = (detection_CCW)*np.ones(100)\n",
        "plt.plot(x,y,'--',color='red')\n",
        "\n",
        "plt.errorbar(0.5, detection_CCW_balanced, xerr=0, yerr=sem_CCW_balanced, fmt='ro',markersize=5, color = 'purple', label=r\"CC Balanced (Ours), $|S|$=2\", alpha = 0.3)\n",
        "x = np.linspace(.5,1,100)\n",
        "y = (detection_CCW_balanced)*np.ones(100)\n",
        "plt.plot(x,y,'--',color='purple')\n",
        "\n",
        "# Plotting TV optimal\n",
        "plt.plot(tvopt_perception_list[0], tvopt_detection_list[0],label=r'Numerical $|S|$=2', color = 'green')\n",
        "plt.scatter(tvopt_perception_list[0], tvopt_detection_list[0],color = 'green')\n",
        "\n",
        "plt.plot(tvopt_perception_list[1], tvopt_detection_list[1],label=r'Numerical $|S|$=3', color = 'orange')\n",
        "plt.scatter(tvopt_perception_list[1], tvopt_detection_list[1], color = 'orange')\n",
        "\n",
        "# Upper bound\n",
        "x = np.linspace(.5,1,100)\n",
        "y = (1-.5/d)*np.ones(100)\n",
        "plt.plot(x,y,'--',label='Ubber Bound',color='black')\n",
        "plt.xlim([0.499,0.55])\n",
        "plt.ylim([0.48,1])\n",
        "\n",
        "title = 'Detection-Perception Trade-off for Uniform Distribution with |X|=10'\n",
        "# plt.title(title, fontsize=14)\n",
        "plt.grid(True, linestyle='--', alpha=0.7)\n",
        "plt.legend(fontsize=15)\n",
        "plt.tight_layout()\n",
        "plt.savefig('RG_CCW_Bounds.pdf', format='pdf', bbox_inches='tight')  # Save as PNG with high resolution\n",
        "# tikzplotlib.save(\"RG_CCW_Bounds.tex\")\n",
        "plt.show()"
      ],
      "metadata": {
        "colab": {
          "base_uri": "https://localhost:8080/",
          "height": 662
        },
        "id": "OXChYKK5ssad",
        "outputId": "77b22343-ec29-49c1-ee75-e2d1421b53bc"
      },
      "execution_count": 39,
      "outputs": [
        {
          "output_type": "stream",
          "name": "stderr",
          "text": [
            "<ipython-input-39-c3404a91f625>:19: UserWarning: color is redundantly defined by the 'color' keyword argument and the fmt string \"ro\" (-> color='r'). The keyword argument will take precedence.\n",
            "  plt.errorbar(0.5, detection_CCW_balanced, xerr=0, yerr=sem_CCW_balanced, fmt='ro',markersize=5, color = 'purple', label=r\"CC Balanced (Ours), $|S|$=2\", alpha = 0.3)\n"
          ]
        },
        {
          "output_type": "display_data",
          "data": {
            "text/plain": [
              "<Figure size 800x600 with 1 Axes>"
            ],
            "image/png": "[encoded data removed]"
          },
          "metadata": {}
        }
      ]
    },
    {
      "cell_type": "code",
      "source": [
        "## Run the TVopt class for different values of epsilon and plot the results\n",
        "\n",
        "sns.set_style(\"whitegrid\")\n",
        "\n",
        "d = 10 # dimension\n",
        "\n",
        "# distribution Q_x\n",
        "p = np.ones(d)\n",
        "p = p/sum(p)\n",
        "\n",
        "\n",
        "m_max = 5 # maximum cardinality of S\n",
        "\n",
        "\n",
        "# Number of plot points\n",
        "n_points = 100\n",
        "\n",
        "# Arrays to store perception and detection values\n",
        "\n",
        "perception_values = np.zeros(n_points)\n",
        "detection_values = np.zeros(n_points)\n",
        "\n",
        "epsilon_values = np.linspace(.5, 1, n_points) # upper bound on perception\n",
        "\n",
        "# Plot the results\n",
        "plt.figure(figsize=(8, 6))\n",
        "plt.xlim([.5,1])\n",
        "plt.ylim([.5,1])\n",
        "\n",
        "for m in range(2,m_max+1):\n",
        "    tvopt = TVopt(m=m, d=d)\n",
        "    w = np.ones(m)\n",
        "    w = w/sum(w)\n",
        "\n",
        "    # Solve the problem for different epsilon values\n",
        "    for idx in tqdm(range(n_points)):\n",
        "      epsilon = epsilon_values[idx]\n",
        "      tvopt.solve(w, p, epsilon)\n",
        "      perception_values[idx] = tvopt.perception\n",
        "      detection_values[idx] = tvopt.detection\n",
        "\n",
        "    # Plot perception\n",
        "    plt.plot(perception_values, detection_values,label=r'$|S|$='+str(m))\n",
        "    plt.scatter(perception_values, detection_values)\n",
        "\n",
        "\n",
        "plt.xlabel(r'$R_p$',fontsize=16)\n",
        "plt.ylabel(r'$R_d$',fontsize=16)\n",
        "# plt.title('Perception-Detection Optimal Trade-Off for Uniform Distribution with |X|=10')\n",
        "\n",
        "plt.grid(True)\n",
        "\n",
        "# Upper bound\n",
        "x = np.linspace(.5,1,100)\n",
        "y = (1-.5/d)*np.ones(100)\n",
        "plt.plot(x,y,'--',label='Ubber Bound',color='black')\n",
        "\n",
        "plt.legend(fontsize=15,loc='lower right')\n",
        "plt.savefig('TVopt.pdf', format='pdf', bbox_inches='tight')  # Save as PNG with high resolution\n",
        "plt.show()"
      ],
      "metadata": {
        "colab": {
          "base_uri": "https://localhost:8080/",
          "height": 629
        },
        "id": "V5PLW2X2uWzS",
        "outputId": "bc9deb71-f0ac-41c1-984e-45071fb00958"
      },
      "execution_count": 32,
      "outputs": [
        {
          "output_type": "stream",
          "name": "stderr",
          "text": [
            "100%|██████████| 100/100 [00:05<00:00, 17.90it/s]\n",
            "100%|██████████| 100/100 [00:25<00:00,  3.87it/s]\n",
            "100%|██████████| 100/100 [01:19<00:00,  1.26it/s]\n",
            "100%|██████████| 100/100 [00:37<00:00,  2.67it/s]\n"
          ]
        },
        {
          "output_type": "display_data",
          "data": {
            "text/plain": [
              "<Figure size 800x600 with 1 Axes>"
            ],
            "image/png": "[encoded data removed]"
          },
          "metadata": {}
        }
      ]
    }
  ]
}